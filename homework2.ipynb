{
  "cells": [
    {
      "cell_type": "code",
      "execution_count": 8,
      "metadata": {
        "id": "Vut1J_GcROsB"
      },
      "outputs": [],
      "source": [
        "import requests\n",
        "from bs4 import BeautifulSoup\n",
        "import json\n",
        "import re"
      ]
    },
    {
      "cell_type": "code",
      "execution_count": 9,
      "metadata": {
        "id": "79PH3WU5ROsD"
      },
      "outputs": [],
      "source": [
        "# Формирование исходных URL\n",
        "base_url = \"http://books.toscrape.com/\"\n",
        "url = base_url + \"catalogue/page-1.html\""
      ]
    },
    {
      "cell_type": "code",
      "execution_count": 10,
      "metadata": {
        "id": "0ik_Yc8aROsD"
      },
      "outputs": [],
      "source": [
        "pages_counter = 0 ### для подсчета количества обработанных веб-страниц\n",
        "books = [] ### для сохранения распарсенных книг"
      ]
    },
    {
      "cell_type": "code",
      "execution_count": null,
      "metadata": {
        "id": "dlOT1LD0ROsD"
      },
      "outputs": [],
      "source": [
        "while url:\n",
        "    print(\"\\nПроводится скрапинг страницы №\", pages_counter+1)\n",
        "    # Отправка GET запроса по URL\n",
        "    response = requests.get(url)\n",
        "\n",
        "    # Парсинг HTML страницы с использованием BeautifulSoup\n",
        "    soup = BeautifulSoup(response.text, \"html.parser\")\n",
        "\n",
        "    h3_tags = soup.find_all(\"h3\")\n",
        "\n",
        "    for h3_tag in h3_tags:\n",
        "\n",
        "        # Поиск тега <a>\n",
        "        a_tag = h3_tag.find(\"a\", href=True)\n",
        "\n",
        "        # Создание ссылки на страницу книги\n",
        "        book_url = base_url + \"catalogue/\" + a_tag[\"href\"]\n",
        "\n",
        "        # Отправка запроса по ссылке на книгу\n",
        "        book_response = requests.get(book_url)\n",
        "\n",
        "        # Парсинг страницы книги\n",
        "        book_soup = BeautifulSoup(book_response.text, \"html.parser\")\n",
        "\n",
        "        ### экстракция требуемых данных о книге\n",
        "        title = book_soup.find(\"h1\").text.strip()\n",
        "        price = float(book_soup.find(\"p\", class_=\"price_color\").text.strip().replace(\"Â\\u00a3\", \"\"))\n",
        "        stock = int(re.findall(r'\\d+', book_soup.find(\"p\", class_=\"instock availability\").text.strip())[0])\n",
        "        description = book_soup.find(\"meta\", attrs={\"name\": \"description\"})[\"content\"]\n",
        "\n",
        "        # Добавление информации о книге в общий список\n",
        "        books.append({\n",
        "                \"Название\": title,\n",
        "                \"Цена в фунтах стерлингов\": price,\n",
        "                \"Количество в наличии\": stock,\n",
        "                \"Описание\": description\n",
        "            })\n",
        "        print(\"Добавили книгу\", title)\n",
        "\n",
        "    next_button = soup.find('a', string='next')\n",
        "\n",
        "    ### Проверка, есть ли ссылка \"next\" на следующую страницу\n",
        "    if next_button:\n",
        "        url = base_url + \"catalogue/\" + next_button['href']\n",
        "        pages_counter += 1\n",
        "    else:\n",
        "        url = None  # если ссылки нет - выходим из цикла while"
      ]
    },
    {
      "cell_type": "code",
      "execution_count": 12,
      "metadata": {
        "colab": {
          "base_uri": "https://localhost:8080/"
        },
        "id": "vPObAu1GROsE",
        "outputId": "78b7f206-282c-4749-bb87-a2106b573cd8"
      },
      "outputs": [
        {
          "output_type": "stream",
          "name": "stdout",
          "text": [
            "\n",
            "Суммарное число книг:  1000\n"
          ]
        }
      ],
      "source": [
        "print(\"\\nСуммарное число книг: \", len(books))\n",
        "### результат расчета суммарного числа распарсенных книг соответствует указанному на сайте"
      ]
    },
    {
      "cell_type": "code",
      "execution_count": 13,
      "metadata": {
        "id": "maByy96_ROsE"
      },
      "outputs": [],
      "source": [
        "### сохранение общего списка в файл кодировкой, содержащей буквы русского алфавита\n",
        "with open(\"books_from_books.toscrape.com.json\", \"w\", encoding='utf-8') as f:\n",
        "        json.dump(books, f, indent=4, ensure_ascii=False)"
      ]
    },
    {
      "cell_type": "code",
      "source": [
        "from google.colab import drive\n",
        "drive.mount('/content/drive')"
      ],
      "metadata": {
        "colab": {
          "base_uri": "https://localhost:8080/"
        },
        "id": "OZdjxLOiZasa",
        "outputId": "9a6cc318-79b9-49fa-e4c5-efde4b8c834c"
      },
      "execution_count": 14,
      "outputs": [
        {
          "output_type": "stream",
          "name": "stdout",
          "text": [
            "Mounted at /content/drive\n"
          ]
        }
      ]
    }
  ],
  "metadata": {
    "kernelspec": {
      "display_name": "Python 3.11.5 64-bit",
      "language": "python",
      "name": "python3"
    },
    "language_info": {
      "codemirror_mode": {
        "name": "ipython",
        "version": 3
      },
      "file_extension": ".py",
      "mimetype": "text/x-python",
      "name": "python",
      "nbconvert_exporter": "python",
      "pygments_lexer": "ipython3",
      "version": "3.11.5"
    },
    "orig_nbformat": 4,
    "vscode": {
      "interpreter": {
        "hash": "5238573367df39f7286bb46f9ff5f08f63a01a80960060ce41e3c79b190280fa"
      }
    },
    "colab": {
      "provenance": []
    }
  },
  "nbformat": 4,
  "nbformat_minor": 0
}